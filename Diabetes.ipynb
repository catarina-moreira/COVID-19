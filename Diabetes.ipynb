{
  "nbformat": 4,
  "nbformat_minor": 0,
  "metadata": {
    "colab": {
      "name": "Diabetes.ipynb",
      "provenance": [],
      "collapsed_sections": [],
      "toc_visible": true,
      "authorship_tag": "ABX9TyP7agaCOuIpkoxI4Pky7pR/",
      "include_colab_link": true
    },
    "kernelspec": {
      "name": "python3",
      "display_name": "Python 3"
    }
  },
  "cells": [
    {
      "cell_type": "markdown",
      "metadata": {
        "id": "view-in-github",
        "colab_type": "text"
      },
      "source": [
        "<a href=\"https://colab.research.google.com/github/catarina-moreira/COVID-19/blob/master/Diabetes.ipynb\" target=\"_parent\"><img src=\"https://colab.research.google.com/assets/colab-badge.svg\" alt=\"Open In Colab\"/></a>"
      ]
    },
    {
      "cell_type": "markdown",
      "metadata": {
        "id": "KJKi9vUWhXI2",
        "colab_type": "text"
      },
      "source": [
        "# Demystifying Predictive Black-Box Models: An Interpretable Probabilistic Approach\n",
        "\n",
        "Catarina Moreira, Yu-Liang Chou, Mythreyi Velmurugan, Renuka Sindhgatta Rajan, Chun Ouyang, Peter Bruza\n",
        "\n",
        "**Abstract** \n"
      ]
    },
    {
      "cell_type": "code",
      "metadata": {
        "id": "5Arnv2vDgvSv",
        "colab_type": "code",
        "colab": {}
      },
      "source": [
        "# Install tensorflow\n",
        "try:\n",
        "  # tensorflow_version only exists in Colab\n",
        "  %tensorflow_version 2.x\n",
        "except Exception:\n",
        "  pass\n"
      ],
      "execution_count": 1,
      "outputs": []
    },
    {
      "cell_type": "code",
      "metadata": {
        "id": "ypF1SQdQh8vx",
        "colab_type": "code",
        "colab": {}
      },
      "source": [
        "# for reproduciability reasons:\n",
        "import numpy as np\n",
        "import random as rn\n",
        "import tensorflow as tf\n",
        "import csv\n",
        "\n",
        "# necessary for starting Numpy generated random numbers in an initial state\n",
        "np.random.seed(515)\n",
        "\n",
        "# Necessary for starting core Python generated random numbers in a state\n",
        "rn.seed(515)\n",
        "\n",
        "# Force TensorFlow to single thread\n",
        "# Multiple threads are a potential source of non-reprocible research resulsts\n",
        "session_conf = tf.compat.v1.ConfigProto( intra_op_parallelism_threads=1,\n",
        "                                          inter_op_parallelism_threads=1 )\n",
        "\n",
        "# tf.set_random_seed() will make random number generation in the TensorFlow backend\n",
        "# have a well defined initial state\n",
        "# more details: https://www.tensorflow.org/api_docs/python/tf/set_random_seed\n",
        "tf.compat.v1.set_random_seed(515)"
      ],
      "execution_count": 2,
      "outputs": []
    },
    {
      "cell_type": "code",
      "metadata": {
        "id": "HBF5VmnWkTAi",
        "colab_type": "code",
        "colab": {}
      },
      "source": [
        "# library to deal with Bayesian Networks\n",
        "!pip install pyagrum"
      ],
      "execution_count": null,
      "outputs": []
    },
    {
      "cell_type": "code",
      "metadata": {
        "id": "3aqGBYAik-gV",
        "colab_type": "code",
        "colab": {}
      },
      "source": [
        "# Bayesian networks\n",
        "from sklearn.preprocessing import KBinsDiscretizer\n",
        "from pylab import *\n",
        "import pyAgrum as gum\n",
        "import pyAgrum.lib.notebook as gnb\n",
        "\n",
        "# for classification purposes\n",
        "from pyAgrum.lib.bn2roc import showROC\n"
      ],
      "execution_count": 4,
      "outputs": []
    },
    {
      "cell_type": "code",
      "metadata": {
        "id": "bisN9ZyOlN0w",
        "colab_type": "code",
        "colab": {
          "base_uri": "https://localhost:8080/",
          "height": 122
        },
        "outputId": "7e09ce1e-d4d3-48db-de97-cf214a70a5ef"
      },
      "source": [
        "from google.colab import drive\n",
        "drive.mount('/content/drive')"
      ],
      "execution_count": 5,
      "outputs": [
        {
          "output_type": "stream",
          "text": [
            "Go to this URL in a browser: https://accounts.google.com/o/oauth2/auth?client_id=947318989803-6bn6qk8qdgf4n4g3pfee6491hc0brc4i.apps.googleusercontent.com&redirect_uri=urn%3aietf%3awg%3aoauth%3a2.0%3aoob&response_type=code&scope=email%20https%3a%2f%2fwww.googleapis.com%2fauth%2fdocs.test%20https%3a%2f%2fwww.googleapis.com%2fauth%2fdrive%20https%3a%2f%2fwww.googleapis.com%2fauth%2fdrive.photos.readonly%20https%3a%2f%2fwww.googleapis.com%2fauth%2fpeopleapi.readonly\n",
            "\n",
            "Enter your authorization code:\n",
            "··········\n",
            "Mounted at /content/drive\n"
          ],
          "name": "stdout"
        }
      ]
    },
    {
      "cell_type": "markdown",
      "metadata": {
        "id": "2OBYgeUpmQTj",
        "colab_type": "text"
      },
      "source": [
        "## Auxiliary Functions"
      ]
    },
    {
      "cell_type": "code",
      "metadata": {
        "id": "OUX7Tyc6v023",
        "colab_type": "code",
        "colab": {}
      },
      "source": [
        "PATH = \"/Users/catarina/GitHub/causabilityXAi/\""
      ],
      "execution_count": 16,
      "outputs": []
    },
    {
      "cell_type": "markdown",
      "metadata": {
        "id": "PzNNW-Tvmumq",
        "colab_type": "text"
      },
      "source": [
        "### Evaluation Measures"
      ]
    },
    {
      "cell_type": "code",
      "metadata": {
        "id": "tUUxpfOXmw_c",
        "colab_type": "code",
        "colab": {}
      },
      "source": [
        "# RECALL\n",
        "# Computes the recal measure of an evaluation setting\n",
        "# y_true: list of groundtruth labels\n",
        "# y_pred: list of predictions from blackbox\n",
        "def recall_m(y_true, y_pred):\n",
        "        true_positives = K.sum(K.round(K.clip(y_true * y_pred, 0, 1)))\n",
        "        possible_positives = K.sum(K.round(K.clip(y_true, 0, 1)))\n",
        "        recall = true_positives / (possible_positives + K.epsilon())\n",
        "        return recall\n",
        "\n",
        "# PRECISION\n",
        "# Computes the precision measure of an evaluation setting\n",
        "# y_true: list of groundtruth labels\n",
        "# y_pred: list of predictions from blackbox\n",
        "def precision_m(y_true, y_pred):\n",
        "        true_positives = K.sum(K.round(K.clip(y_true * y_pred, 0, 1)))\n",
        "        predicted_positives = K.sum(K.round(K.clip(y_pred, 0, 1)))\n",
        "        precision = true_positives / (predicted_positives + K.epsilon())\n",
        "        return precision\n",
        "\n",
        "# F1\n",
        "# Computes the F1 measure of an evaluation setting\n",
        "# y_true: list of groundtruth labels\n",
        "# y_pred: list of predictions from blackbox\n",
        "def f1_m(y_true, y_pred):\n",
        "    precision = precision_m(y_true, y_pred)\n",
        "    recall = recall_m(y_true, y_pred)\n",
        "    return 2*((precision*recall)/(precision+recall+K.epsilon()))\n"
      ],
      "execution_count": 8,
      "outputs": []
    },
    {
      "cell_type": "markdown",
      "metadata": {
        "id": "xpPIGdGjmpzp",
        "colab_type": "text"
      },
      "source": [
        "### Neural Networks"
      ]
    },
    {
      "cell_type": "code",
      "metadata": {
        "id": "E19gRoIOmaUU",
        "colab_type": "code",
        "colab": {}
      },
      "source": [
        "# CREATE_MODEL\n",
        "# creates a neural network model with a certain number of hidden layers and a certain \n",
        "# number of neurons in each layer.\n",
        "# input_dim: an integer specifying the number of input neurons\n",
        "# output_dim: an integer specifying the number of output neurons (the number of labels)\n",
        "# hidden_layers: an integer specifying the number of hidden layers\n",
        "# loss_func: the loss function of the model. By default, it is applied the 'categorical_crossentropy'\n",
        "# optim: the optimisation algorithm used in the model. By default it is used the 'nadam' algorithm\n",
        "# metrics: a list of strings specifying the metrics to be evaluated ('accuracy', 'f1', 'recall','precision')\n",
        "def create_model(input_dim, output_dim, nodes, hidden_layers=1, loss_func='categorical_crossentropy', optim='nadam', metrics=['accuracy'], name='model'):\n",
        "    \n",
        "    model = Sequential(name=name)\n",
        "    model.add( Dense(nodes, input_dim=input_dim, activation='relu'))  # input layer\n",
        "    for i in range(hidden_layers):                                    # hidden layers\n",
        "      model.add(Dense(nodes, activation='relu'))  \n",
        "    model.add(Dense(output_dim, activation='softmax'))                # output layer\n",
        "\n",
        "    if( optim == \"nadam\" ):                                           # Compile model\n",
        "      optim = keras.optimizers.Nadam(lr=0.0001, beta_1=0.9, beta_2=0.999)\n",
        "\n",
        "    model.compile(loss=loss_func, optimizer=optim, \n",
        "                  metrics=metrics)\n",
        "    return model"
      ],
      "execution_count": 9,
      "outputs": []
    },
    {
      "cell_type": "code",
      "metadata": {
        "id": "9FcH8uFrrMd1",
        "colab_type": "code",
        "colab": {}
      },
      "source": [
        "# GRID_SEARCH\n",
        "# Generates a set of models with different configurations, ranging from an\n",
        "# initial number of neurons to a maximum number of neurons\n",
        "# start_nodes: an integer specifying the initial number of neurons to generate a model from\n",
        "# max_nodes:   an integer specifying the maximum number of neurons to generate a model from\n",
        "# max_hlayers: an integer specifying the maximum number of hidden layers to generate a model from\n",
        "# debug: boolean that acts as a flag. If True, it displays the characteristics of each model\n",
        "# metrics: a list of strings with the metrics to be evaluated \n",
        "def grid_search_model_generator(start_nodes = 1, max_nodes = 12, max_hlayers = 5, debug = False, metrics = ['accuracy'] ):\n",
        "\n",
        "  models = []\n",
        "\n",
        "  # generate different models with different neurons and different hidden layers\n",
        "  for neurons in range(start_nodes, MAX_NODES+1):\n",
        "    for hidden_layer in range(1, MAX_HLAYERS+1):\n",
        "      model_name = \"model_h\" + str(hidden_layer) + \"_N\"+str(neurons)\n",
        "      model = create_model(n_features, n_classes, neurons, hidden_layer, name=model_name, metrics = metrics)\n",
        "    \n",
        "      models.append( model )  # add the generated model to a list\n",
        "\n",
        "  # plot general information for each model\n",
        "  if( DEBUG ):  \n",
        "    for model in models:\n",
        "      model.summary()\n",
        "\n",
        "  return models\n"
      ],
      "execution_count": 12,
      "outputs": []
    },
    {
      "cell_type": "code",
      "metadata": {
        "id": "lYddZ7hevU2r",
        "colab_type": "code",
        "colab": {}
      },
      "source": [
        "# PERFORM_GRID_SEARCH\n",
        "# given a list of models with different configurations, fit the data to the models,\n",
        "# and evaluate the model. This function returns a list of training histories for each model\n",
        "# models: list of models\n",
        "def perform_grid_search( models ):\n",
        "\n",
        "  # define the callebacks to take into consideration during training\n",
        "  # stop training when convergence is achieved after 10 iterations\n",
        "  early_stop = EarlyStopping(monitor='val_loss', patience=10, verbose=1, mode='min')\n",
        "  \n",
        "  # save the best model after every epoch\n",
        "  model_checkpoint = ModelCheckpoint(PATH + \"training/diabetes/model_{epoch:02d}-{val_loss:.2f}.h5\", \n",
        "                                     monitor='val_loss', \n",
        "                                     verbose=0, \n",
        "                                     save_best_only=True, \n",
        "                                     mode='min')\n",
        "  \n",
        "  callbacks_list = [early_stop, model_checkpoint]\n",
        "\n",
        "  # grid search over each model\n",
        "  for model in models:\n",
        "    print('MODEL NAME:', model.name)\n",
        "    history_callback = model.fit(X_train, Y_train, batch_size = BATCH_SIZE, epochs = EPOCHS,\n",
        "                                 verbose=0, validation_data=(X_validation, Y_validation), callbacks=callbacks_list)\n",
        "    \n",
        "    score_test = model.evaluate( X_test, Y_test, verbose=0 )\n",
        "    score_train = model.evaluate( X_train, Y_train  )\n",
        "  \n",
        "    print('Test loss:     ', format(score_test[0], '.4f'), '\\tTrain loss: ', format(score_train[0], '.4f') )\n",
        "    print('Test accuracy: ', format(score_test[1], '.4f'), '\\tTrain accu: ', format(score_train[1], '.4f') )\n",
        "    print('Abs accuracy:  ', format( np.abs( score_test[1] - score_train[1] ), '.4f'))\n",
        "    print('Abs loss:      ', format( np.abs( score_test[0] - score_train[0] ), '.4f'))\n",
        "    print('\\n###########################################################\\n')\n",
        "\n",
        "    HISTORY_DICT[model.name] = [history_callback, model]\n",
        "\n",
        "  return HISTORY_DICT\n"
      ],
      "execution_count": 13,
      "outputs": []
    },
    {
      "cell_type": "code",
      "metadata": {
        "id": "8OqukTuz0G7b",
        "colab_type": "code",
        "colab": {}
      },
      "source": [
        "# SAVE_MODEL\n",
        "#\n",
        "# \n",
        "def serialize_model( model, model_name, path ):\n",
        "  # serialize model to JSON\n",
        "  model_json = model.to_json()\n",
        "  with open(path + model_name+\"_DUO.json\", \"w\") as json_file:\n",
        "    json_file.write(model_json)\n",
        "  json_file.close()\n",
        "\n",
        "  # serialize weights to HDF5\n",
        "  model.save_weights( path + model_name+\"_DUO.h5\")\n",
        "  print(\"Saving files:\")\n",
        "  print(path + model_name+\"_DUO.json\")\n",
        "  print(path + model_name+\"_DUO.h5\")\n",
        "  print(\"Model saved to disk\") \n",
        "\n",
        "# SAVE_MODEL_HISTORY\n",
        "#\n",
        "# \n",
        "def serialize_model_history(  model_hist, model_name, path ):\n",
        "  file = open(path + model_name + \"_hist.csv\", \"w\")\n",
        "  w = csv.writer( file )\n",
        "  \n",
        "  for key, val in model_hist.history.items():\n",
        "    w.writerow([key, val])\n",
        "  file.close()\n",
        "  print(path + model_name+\"_DUO.h5\")\n",
        "  print(\"Model history saved to disk\") \n"
      ],
      "execution_count": 14,
      "outputs": []
    },
    {
      "cell_type": "code",
      "metadata": {
        "id": "bgijcFoi01hA",
        "colab_type": "code",
        "colab": {}
      },
      "source": [
        "# LOAD_MODEL_HISTORY ------------------------------------------\n",
        "#\n",
        "# \n",
        "def load_model_history( model_name, path):\n",
        "\n",
        "  model_hist_loaded = {}\n",
        "  values = []\n",
        "\n",
        "  # load dictionary\n",
        "  r = open( path + model_name + \"_hist.csv\", \"r\").read()\n",
        "  for line in r.split(\"\\n\"):\n",
        "    if(len(line) == 0):\n",
        "      continue\n",
        "  \n",
        "    metric = line.split(\",\\\"[\")[0]                                    # extract metrics\n",
        "    values_str = line.split(\",\\\"[\")[1].replace(\"]\\\"\",\"\").split(\", \")  # extract validation values\n",
        "    values = [float(val_str) for val_str in values_str]\n",
        "    model_hist_loaded.update( {metric : values} )\n",
        "  return model_hist_loaded\n",
        "\n",
        "# LOAD_MODEL ------------------------------------------\n",
        "#\n",
        "# \n",
        "def load_model( model_name, path ):\n",
        "  json_file = open( path + model_name +  \"_DUO.json\", 'r')\n",
        "  loaded_model_json = json_file.read()\n",
        "  json_file.close()\n",
        "\n",
        "  # load weights into new model\n",
        "  loaded_model = model_from_json(loaded_model_json)\n",
        "  loaded_model.load_weights(path + model_name +  \"_DUO.h5\")\n",
        "  print(\"Loaded model from disk\")\n",
        "  return loaded_model"
      ],
      "execution_count": 17,
      "outputs": []
    },
    {
      "cell_type": "markdown",
      "metadata": {
        "id": "d6F3cADNh_xD",
        "colab_type": "text"
      },
      "source": [
        "## Training a Neural Network"
      ]
    },
    {
      "cell_type": "code",
      "metadata": {
        "id": "qnF5zKygiH9x",
        "colab_type": "code",
        "colab": {}
      },
      "source": [
        "MY_PATH = \"/content/drive/My Drive/Colab Notebooks/ExplanatoryAI/\"\n",
        "DATASET_NAME = \"diabetes.csv\"\n",
        "\n",
        "class_var = \"Outcome\"\n",
        "dataset_path = MY_PATH + \"datasets/\" + DATASET_NAME\n",
        "data = pd.read_csv( dataset_path )\n",
        "data.sample(5)"
      ],
      "execution_count": null,
      "outputs": []
    }
  ]
}